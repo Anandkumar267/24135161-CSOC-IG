{
 "cells": [
  {
   "cell_type": "code",
   "execution_count": 2,
   "id": "b31260ad",
   "metadata": {},
   "outputs": [],
   "source": [
    "import numpy as np\n",
    "from sklearn.datasets import make_classification\n",
    "class LayerDense:\n",
    "    def __init__(self, n_features, n_neurons):\n",
    "        self.weights = 0.1 * np.random.randn(n_neurons, n_features)\n",
    "        self.bias = np.zeros((n_neurons,1))\n",
    "        \n",
    "    def forward(self, inputs):\n",
    "        self.output = np.dot(self.weights, inputs) +self.bias\n",
    "\n",
    "class Activation_ReLU:\n",
    "    def forward(self, inputs):\n",
    "        self.output= np.maximum(0, inputs)\n",
    "\n",
    "class Activation_Softmax:\n",
    "    def forward(self, inputs):\n",
    "        exp_values= np.exp(inputs - np.max(inputs, axis=0, keepdims=True))\n",
    "        self.output = exp_values / np.sum(exp_values, axis=0, keepdims=True)\n",
    "class Activation_sigmoid:\n",
    "    def forward(self, inputs):\n",
    "        self.output= 1/(1+np.exp(-inputs))\n",
    "    "
   ]
  },
  {
   "cell_type": "code",
   "execution_count": 3,
   "id": "63712336",
   "metadata": {},
   "outputs": [],
   "source": [
    "import pandas as pd\n",
    "data = pd.read_csv('MedicalAppointment.csv')"
   ]
  },
  {
   "cell_type": "code",
   "execution_count": 4,
   "id": "b50a7c46",
   "metadata": {},
   "outputs": [
    {
     "data": {
      "text/plain": [
       "count    110527.000000\n",
       "mean         37.088874\n",
       "std          23.110205\n",
       "min          -1.000000\n",
       "25%          18.000000\n",
       "50%          37.000000\n",
       "75%          55.000000\n",
       "max         115.000000\n",
       "Name: Age, dtype: float64"
      ]
     },
     "execution_count": 4,
     "metadata": {},
     "output_type": "execute_result"
    }
   ],
   "source": [
    "data['Age'].describe()"
   ]
  },
  {
   "cell_type": "code",
   "execution_count": null,
   "id": "f5b1e9cb",
   "metadata": {},
   "outputs": [],
   "source": [
    "data = data.drop(index=99832)\n"
   ]
  },
  {
   "cell_type": "code",
   "execution_count": null,
   "id": "3d6f698e",
   "metadata": {},
   "outputs": [],
   "source": [
    "data[data['No-show']=='No']"
   ]
  },
  {
   "cell_type": "code",
   "execution_count": null,
   "id": "b3acedb5",
   "metadata": {},
   "outputs": [],
   "source": [
    "x = data[['Age', 'Scholarship', 'Hipertension', 'Diabetes', 'Alcoholism', 'Handcap', 'SMS_received']].to_numpy()"
   ]
  },
  {
   "cell_type": "code",
   "execution_count": null,
   "id": "30060ae5",
   "metadata": {},
   "outputs": [],
   "source": [
    "y = data['No-show'].to_numpy()"
   ]
  },
  {
   "cell_type": "code",
   "execution_count": null,
   "id": "e5a0911c",
   "metadata": {},
   "outputs": [],
   "source": [
    "y= np.where(y=='No', 1,0)"
   ]
  },
  {
   "cell_type": "code",
   "execution_count": null,
   "id": "4a240c01",
   "metadata": {},
   "outputs": [],
   "source": [
    "y.shape"
   ]
  },
  {
   "cell_type": "code",
   "execution_count": null,
   "id": "fd133bab",
   "metadata": {},
   "outputs": [],
   "source": [
    "def cost(y_hat, y):\n",
    "    y_hat = np.clip(y_hat, 1e-7, 1-1e-7)\n",
    "\n",
    "    loss = -y*np.log(y_hat) -(1-y)*np.log(1-y_hat)\n",
    "    if (loss.shape[1] !=1):\n",
    "        summed =1/len(y)* np.sum(loss, axis=1, keepdims=1)\n",
    "    else:\n",
    "        summed =1/len(y)*loss\n",
    "    return summed\n",
    "\n"
   ]
  },
  {
   "cell_type": "code",
   "execution_count": null,
   "id": "b196b2dc",
   "metadata": {},
   "outputs": [],
   "source": [
    "np.array([1,2])*np.array([2,4])"
   ]
  },
  {
   "cell_type": "code",
   "execution_count": null,
   "id": "8d2690a9",
   "metadata": {},
   "outputs": [],
   "source": [
    "m = len(data)"
   ]
  },
  {
   "cell_type": "code",
   "execution_count": null,
   "id": "b8e92757",
   "metadata": {},
   "outputs": [],
   "source": [
    "x = x.reshape((7,110526))"
   ]
  },
  {
   "cell_type": "code",
   "execution_count": null,
   "id": "bdbbbdfe",
   "metadata": {},
   "outputs": [],
   "source": [
    "layer1 = LayerDense(7, 256)\n",
    "layer2 = LayerDense(256,1)\n",
    "\n",
    "activation1 = Activation_sigmoid()\n",
    "activation2 = Activation_sigmoid()\n",
    "y = y.reshape(1,110526)\n",
    "lr = 0.03"
   ]
  },
  {
   "cell_type": "code",
   "execution_count": null,
   "id": "43cbff34",
   "metadata": {},
   "outputs": [],
   "source": [
    "def backward_layer2(y_hat, y, m, a1, w2):\n",
    "    a3 = y_hat\n",
    "    dc_dz2 = (y_hat - y)/m\n",
    "    dz2_dw2 =   a1\n",
    "   \n",
    "    dw = dc_dz2@dz2_dw2.T\n",
    "    db = np.sum(dc_dz2)\n",
    "    dz2_da1 = w2\n",
    "\n",
    "    dc_da1 = w2.T@dc_dz2\n",
    "\n",
    "    return dw, db, dc_da1"
   ]
  },
  {
   "cell_type": "code",
   "execution_count": null,
   "id": "b49e7518",
   "metadata": {},
   "outputs": [],
   "source": [
    "m= len(data)"
   ]
  },
  {
   "cell_type": "code",
   "execution_count": null,
   "id": "14e03da0",
   "metadata": {},
   "outputs": [],
   "source": [
    "def backward_layer1(dc_da1, a1, w1, x):\n",
    "    dc_dz1= dc_da1 * a1*(1-a1)\n",
    "    dz1_dw1 = x\n",
    "    dc_dw1 = dc_dz1@dz1_dw1.T\n",
    "    dc_db1 = np.sum(dc_dz1, axis=1, keepdims=1)\n",
    "\n",
    "    return dc_dw1, dc_db1"
   ]
  },
  {
   "cell_type": "code",
   "execution_count": null,
   "id": "79c5aef8",
   "metadata": {},
   "outputs": [],
   "source": [
    "import tracemalloc\n"
   ]
  },
  {
   "cell_type": "code",
   "execution_count": null,
   "id": "ac8fb401",
   "metadata": {},
   "outputs": [],
   "source": [
    "tracemalloc.start()\n",
    "for _ in range(120):\n",
    "    layer1.forward(x)\n",
    "    activation1.forward(layer1.output)\n",
    "    layer2.forward(activation1.output)\n",
    "    activation2.forward(layer2.output)\n",
    "    loss = cost(activation2.output, y)\n",
    "    dw2, db2, dc_da1 = backward_layer2(activation2.output, y, x.shape[1], activation1.output, layer2.weights)\n",
    "    dw1,db1  = backward_layer1(dc_da1, activation1.output, layer1.weights, x)\n",
    "    layer2.weights -= lr*dw2\n",
    "    layer1.weights -= lr*dw1\n",
    "    layer2.bias -= lr*db2\n",
    "    layer1.bias -= lr*db1\n",
    "print(tracemalloc.get_tracemalloc_memory())\n",
    "tracemalloc.stop()"
   ]
  },
  {
   "cell_type": "code",
   "execution_count": null,
   "id": "22a7aee8",
   "metadata": {},
   "outputs": [],
   "source": [
    "y_pred = activation2.output"
   ]
  },
  {
   "cell_type": "code",
   "execution_count": null,
   "id": "82fe6d31",
   "metadata": {},
   "outputs": [],
   "source": [
    "y_pred = np.where(y_pred>0.6, 1,0)"
   ]
  },
  {
   "cell_type": "code",
   "execution_count": null,
   "id": "dd1b0fd6",
   "metadata": {},
   "outputs": [],
   "source": [
    "y_pred = np.where(y_pred>0.5,1, 0)"
   ]
  },
  {
   "cell_type": "code",
   "execution_count": null,
   "id": "ffb99182",
   "metadata": {},
   "outputs": [],
   "source": [
    "y_pred"
   ]
  },
  {
   "cell_type": "code",
   "execution_count": null,
   "id": "2ebc93fe",
   "metadata": {},
   "outputs": [],
   "source": [
    "y"
   ]
  },
  {
   "cell_type": "code",
   "execution_count": null,
   "id": "bb6c08e7",
   "metadata": {},
   "outputs": [],
   "source": [
    "y_pred, y =y_pred.reshape((m, 1)), y.reshape((m,1))"
   ]
  },
  {
   "cell_type": "code",
   "execution_count": null,
   "id": "51bdd787",
   "metadata": {},
   "outputs": [],
   "source": [
    "from sklearn.metrics import accuracy_score , f1_score, roc_auc_score, confusion_matrix\n",
    "accuracy_score(y, y_pred)"
   ]
  },
  {
   "cell_type": "code",
   "execution_count": null,
   "id": "c5e80359",
   "metadata": {},
   "outputs": [],
   "source": [
    "f1_score(y, y_pred)"
   ]
  },
  {
   "cell_type": "code",
   "execution_count": null,
   "id": "6ea06315",
   "metadata": {},
   "outputs": [],
   "source": [
    "roc_auc_score(y, y_pred)"
   ]
  },
  {
   "cell_type": "code",
   "execution_count": null,
   "id": "238987bd",
   "metadata": {},
   "outputs": [],
   "source": [
    "confusion_matrix(y, y_pred)"
   ]
  },
  {
   "cell_type": "code",
   "execution_count": null,
   "id": "385b4a28",
   "metadata": {},
   "outputs": [],
   "source": []
  }
 ],
 "metadata": {
  "kernelspec": {
   "display_name": ".venv",
   "language": "python",
   "name": "python3"
  },
  "language_info": {
   "codemirror_mode": {
    "name": "ipython",
    "version": 3
   },
   "file_extension": ".py",
   "mimetype": "text/x-python",
   "name": "python",
   "nbconvert_exporter": "python",
   "pygments_lexer": "ipython3",
   "version": "3.12.3"
  }
 },
 "nbformat": 4,
 "nbformat_minor": 5
}
